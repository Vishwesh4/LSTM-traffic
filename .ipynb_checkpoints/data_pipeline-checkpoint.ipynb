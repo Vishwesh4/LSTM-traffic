{
 "cells": [
  {
   "cell_type": "code",
   "execution_count": 1,
   "metadata": {},
   "outputs": [
    {
     "name": "stderr",
     "output_type": "stream",
     "text": [
      "Using TensorFlow backend.\n"
     ]
    }
   ],
   "source": [
    "import pandas as pd\n",
    "import matplotlib\n",
    "import matplotlib.pyplot as plt\n",
    "import numpy as np\n",
    "from sklearn.metrics import mean_squared_error\n",
    "from sklearn import preprocessing\n",
    "from math import sqrt\n",
    "import math\n",
    "import os\n",
    "import json\n",
    "import time\n",
    "import seaborn as sns\n",
    "import datetime\n",
    "from core.data_processor import DataLoader\n",
    "from core.model import Model\n",
    "from sklearn.preprocessing import LabelEncoder\n",
    "from keras.utils import np_utils\n"
   ]
  },
  {
   "cell_type": "code",
   "execution_count": null,
   "metadata": {
    "collapsed": true
   },
   "outputs": [],
   "source": [
    "'''\n",
    "till now judgement\n",
    "date_time: convert to suitable format, doesnt go for prediction \n",
    "dayofweek: add new column signifying day(Monday=0, Sunday=6)\n",
    "peakhours: \n",
    "is_holiday : change all non null to 1\n",
    "wind_speed : to be standardized variable\n",
    "wind_direction: categorical variable, better to put in 60 deg buckets \n",
    "visibility_in_miles: categorical\n",
    "dew_point: categorical\n",
    "temperature: replace 0 with mean value and standardize it\n",
    "air_pollution_index : No change, just standardize it\n",
    "humidity: standardize it\n",
    "rain_p_h: have to think , for now just use as it is\n",
    "snow_ph: 0 and 1\n",
    "weather_type: label encode\n",
    "weather_description: drop it\n",
    "traffic_volume: to predict\n",
    "'''\n"
   ]
  },
  {
   "cell_type": "code",
   "execution_count": 6,
   "metadata": {
    "collapsed": true
   },
   "outputs": [],
   "source": [
    "rawdata = pd.read_csv(\"./DataSets/Train.csv\")\n",
    "df_test = pd.read_csv(\"./DataSets/Test.csv\")"
   ]
  },
  {
   "cell_type": "code",
   "execution_count": 7,
   "metadata": {},
   "outputs": [
    {
     "data": {
      "text/html": [
       "<div>\n",
       "<style scoped>\n",
       "    .dataframe tbody tr th:only-of-type {\n",
       "        vertical-align: middle;\n",
       "    }\n",
       "\n",
       "    .dataframe tbody tr th {\n",
       "        vertical-align: top;\n",
       "    }\n",
       "\n",
       "    .dataframe thead th {\n",
       "        text-align: right;\n",
       "    }\n",
       "</style>\n",
       "<table border=\"1\" class=\"dataframe\">\n",
       "  <thead>\n",
       "    <tr style=\"text-align: right;\">\n",
       "      <th></th>\n",
       "      <th>date_time</th>\n",
       "      <th>is_holiday</th>\n",
       "      <th>air_pollution_index</th>\n",
       "      <th>humidity</th>\n",
       "      <th>wind_speed</th>\n",
       "      <th>wind_direction</th>\n",
       "      <th>visibility_in_miles</th>\n",
       "      <th>dew_point</th>\n",
       "      <th>temperature</th>\n",
       "      <th>rain_p_h</th>\n",
       "      <th>snow_p_h</th>\n",
       "      <th>clouds_all</th>\n",
       "      <th>weather_type</th>\n",
       "      <th>weather_description</th>\n",
       "      <th>traffic_volume</th>\n",
       "    </tr>\n",
       "  </thead>\n",
       "  <tbody>\n",
       "    <tr>\n",
       "      <th>0</th>\n",
       "      <td>2012-10-02 09:00:00</td>\n",
       "      <td>None</td>\n",
       "      <td>121</td>\n",
       "      <td>89</td>\n",
       "      <td>2</td>\n",
       "      <td>329</td>\n",
       "      <td>1</td>\n",
       "      <td>1</td>\n",
       "      <td>288.28</td>\n",
       "      <td>0.0</td>\n",
       "      <td>0.0</td>\n",
       "      <td>40</td>\n",
       "      <td>Clouds</td>\n",
       "      <td>scattered clouds</td>\n",
       "      <td>5545</td>\n",
       "    </tr>\n",
       "    <tr>\n",
       "      <th>1</th>\n",
       "      <td>2012-10-02 10:00:00</td>\n",
       "      <td>None</td>\n",
       "      <td>178</td>\n",
       "      <td>67</td>\n",
       "      <td>3</td>\n",
       "      <td>330</td>\n",
       "      <td>1</td>\n",
       "      <td>1</td>\n",
       "      <td>289.36</td>\n",
       "      <td>0.0</td>\n",
       "      <td>0.0</td>\n",
       "      <td>75</td>\n",
       "      <td>Clouds</td>\n",
       "      <td>broken clouds</td>\n",
       "      <td>4516</td>\n",
       "    </tr>\n",
       "    <tr>\n",
       "      <th>2</th>\n",
       "      <td>2012-10-02 11:00:00</td>\n",
       "      <td>None</td>\n",
       "      <td>113</td>\n",
       "      <td>66</td>\n",
       "      <td>3</td>\n",
       "      <td>329</td>\n",
       "      <td>2</td>\n",
       "      <td>2</td>\n",
       "      <td>289.58</td>\n",
       "      <td>0.0</td>\n",
       "      <td>0.0</td>\n",
       "      <td>90</td>\n",
       "      <td>Clouds</td>\n",
       "      <td>overcast clouds</td>\n",
       "      <td>4767</td>\n",
       "    </tr>\n",
       "    <tr>\n",
       "      <th>3</th>\n",
       "      <td>2012-10-02 12:00:00</td>\n",
       "      <td>None</td>\n",
       "      <td>20</td>\n",
       "      <td>66</td>\n",
       "      <td>3</td>\n",
       "      <td>329</td>\n",
       "      <td>5</td>\n",
       "      <td>5</td>\n",
       "      <td>290.13</td>\n",
       "      <td>0.0</td>\n",
       "      <td>0.0</td>\n",
       "      <td>90</td>\n",
       "      <td>Clouds</td>\n",
       "      <td>overcast clouds</td>\n",
       "      <td>5026</td>\n",
       "    </tr>\n",
       "    <tr>\n",
       "      <th>4</th>\n",
       "      <td>2012-10-02 13:00:00</td>\n",
       "      <td>None</td>\n",
       "      <td>281</td>\n",
       "      <td>65</td>\n",
       "      <td>3</td>\n",
       "      <td>329</td>\n",
       "      <td>7</td>\n",
       "      <td>7</td>\n",
       "      <td>291.14</td>\n",
       "      <td>0.0</td>\n",
       "      <td>0.0</td>\n",
       "      <td>75</td>\n",
       "      <td>Clouds</td>\n",
       "      <td>broken clouds</td>\n",
       "      <td>4918</td>\n",
       "    </tr>\n",
       "  </tbody>\n",
       "</table>\n",
       "</div>"
      ],
      "text/plain": [
       "             date_time is_holiday  air_pollution_index  humidity  wind_speed  \\\n",
       "0  2012-10-02 09:00:00       None                  121        89           2   \n",
       "1  2012-10-02 10:00:00       None                  178        67           3   \n",
       "2  2012-10-02 11:00:00       None                  113        66           3   \n",
       "3  2012-10-02 12:00:00       None                   20        66           3   \n",
       "4  2012-10-02 13:00:00       None                  281        65           3   \n",
       "\n",
       "   wind_direction  visibility_in_miles  dew_point  temperature  rain_p_h  \\\n",
       "0             329                    1          1       288.28       0.0   \n",
       "1             330                    1          1       289.36       0.0   \n",
       "2             329                    2          2       289.58       0.0   \n",
       "3             329                    5          5       290.13       0.0   \n",
       "4             329                    7          7       291.14       0.0   \n",
       "\n",
       "   snow_p_h  clouds_all weather_type weather_description  traffic_volume  \n",
       "0       0.0          40       Clouds    scattered clouds            5545  \n",
       "1       0.0          75       Clouds       broken clouds            4516  \n",
       "2       0.0          90       Clouds     overcast clouds            4767  \n",
       "3       0.0          90       Clouds     overcast clouds            5026  \n",
       "4       0.0          75       Clouds       broken clouds            4918  "
      ]
     },
     "execution_count": 7,
     "metadata": {},
     "output_type": "execute_result"
    }
   ],
   "source": [
    "rawdata.head()"
   ]
  },
  {
   "cell_type": "code",
   "execution_count": 68,
   "metadata": {},
   "outputs": [],
   "source": [
    "rawdata.date_time = pd.to_datetime(rawdata['date_time'])"
   ]
  },
  {
   "cell_type": "code",
   "execution_count": null,
   "metadata": {
    "collapsed": true
   },
   "outputs": [],
   "source": [
    "def preprocessing():\n",
    "    df = rawdata.copy()\n",
    "    #day of week, we have less traffic during saturdays or sundays\n",
    "    df['dayofweek'] = rawdata.date_time.dt.dayofweek\n",
    "    df['month'] = rawdata.date_time.dt.month\n",
    "    #hours\n",
    "    bins = [-0.1,6,12,18,24]\n",
    "    labels = [0,1,2,3]\n",
    "    df['hour']= pd.cut(rawdata['date_time'].dt.hour, bins=bins, labels=labels)\n",
    "    #is_holiday\n",
    "    df['is_holiday'] = (rawdata.is_holiday!='None')*1\n",
    "    A = df.loc[df.is_holiday==1,'date_time']\n",
    "    for items in A:\n",
    "    df.loc[(df.date_time.dt.year==items.year) & (df.date_time.dt.month==items.month) & (df.date_time.dt.day==items.day),'is_holiday'] = 1\n",
    "    #wind_direction\n",
    "    bins = [-0.1, 60, 120, 180, 240, 300, 360]\n",
    "    labels = [0,1,2,3,4,5]\n",
    "    df['wind_direction']= pd.cut(rawdata['wind_direction'], bins=bins, labels=labels)\n",
    "    #temperature\n",
    "    df.loc[rawdata.temperature==0,'temperature'] = np.mean(rawdata.loc[rawdata.temperature!=0,'temperature'])\n",
    "    #snow_p_h\n",
    "    df['snow_p_h'] = (rawdata.snow_p_h!=0)*1\n",
    "    #weather label encode\n",
    "    #Encoding features\n",
    "    lb_weather = LabelEncoder()\n",
    "    df['weather_type'] = rawdata['weather_type'].apply(lb_weather.fit_transform)\n",
    "    lb_weather_des = LabelEncoder()\n",
    "    df['weather_description'] = rawdata['weather_description'].apply(lb_weather_des.fit_transform)\n",
    "    #standardizing\n",
    "    std_cols = ['temperature','air_pollution_index','humidity','wind_speed','clouds_all','traffic_volume']\n",
    "    mean = rawdata[std_cols].mean()\n",
    "    std = rawdata[std_cols].std()\n",
    "    df[std_cols] = (rawdata[std_cols]-mean)/std\n",
    "    return df,(lb_weather,lb_weather_des),(std_cols,mean,std)"
   ]
  },
  {
   "cell_type": "code",
   "execution_count": 54,
   "metadata": {},
   "outputs": [
    {
     "data": {
      "text/plain": [
       "array(['None', 'Columbus Day', 'Veterans Day', 'Thanksgiving Day',\n",
       "       'Christmas Day', 'New Years Day', 'Washingtons Birthday',\n",
       "       'Memorial Day', 'Independence Day', 'State Fair', 'Labor Day',\n",
       "       'Martin Luther King Jr Day'], dtype=object)"
      ]
     },
     "execution_count": 54,
     "metadata": {},
     "output_type": "execute_result"
    }
   ],
   "source": [
    "df.is_holiday.unique()"
   ]
  },
  {
   "cell_type": "code",
   "execution_count": 71,
   "metadata": {},
   "outputs": [],
   "source": [
    "df['is_holiday'] = (rawdata.is_holiday!='None')*1\n",
    "col_to_look  = ['date_time','is_holiday']\n",
    "A = df.loc[df.is_holiday==1,'date_time']"
   ]
  },
  {
   "cell_type": "code",
   "execution_count": 75,
   "metadata": {},
   "outputs": [],
   "source": [
    "for items in A:\n",
    "    df.loc[(df.date_time.dt.year==items.year) & (df.date_time.dt.month==items.month) & (df.date_time.dt.day==items.day),'is_holiday'] = 1"
   ]
  },
  {
   "cell_type": "code",
   "execution_count": 76,
   "metadata": {},
   "outputs": [
    {
     "data": {
      "text/plain": [
       "126     2012-10-08 00:00:00\n",
       "127     2012-10-08 01:00:00\n",
       "128     2012-10-08 02:00:00\n",
       "129     2012-10-08 03:00:00\n",
       "130     2012-10-08 04:00:00\n",
       "131     2012-10-08 05:00:00\n",
       "132     2012-10-08 06:00:00\n",
       "133     2012-10-08 07:00:00\n",
       "134     2012-10-08 08:00:00\n",
       "135     2012-10-08 09:00:00\n",
       "136     2012-10-08 10:00:00\n",
       "137     2012-10-08 11:00:00\n",
       "138     2012-10-08 12:00:00\n",
       "139     2012-10-08 13:00:00\n",
       "140     2012-10-08 14:00:00\n",
       "141     2012-10-08 15:00:00\n",
       "142     2012-10-08 16:00:00\n",
       "143     2012-10-08 17:00:00\n",
       "144     2012-10-08 18:00:00\n",
       "145     2012-10-08 19:00:00\n",
       "146     2012-10-08 20:00:00\n",
       "147     2012-10-08 21:00:00\n",
       "148     2012-10-08 22:00:00\n",
       "149     2012-10-08 23:00:00\n",
       "1123    2012-11-12 00:00:00\n",
       "1124    2012-11-12 01:00:00\n",
       "1125    2012-11-12 02:00:00\n",
       "1126    2012-11-12 03:00:00\n",
       "1127    2012-11-12 04:00:00\n",
       "1128    2012-11-12 05:00:00\n",
       "                ...        \n",
       "30114   2017-01-16 21:00:00\n",
       "30115   2017-01-16 22:00:00\n",
       "30116   2017-01-16 22:00:00\n",
       "30117   2017-01-16 22:00:00\n",
       "30118   2017-01-16 23:00:00\n",
       "30119   2017-01-16 23:00:00\n",
       "31145   2017-02-20 00:00:00\n",
       "31146   2017-02-20 01:00:00\n",
       "31147   2017-02-20 02:00:00\n",
       "31148   2017-02-20 03:00:00\n",
       "31149   2017-02-20 04:00:00\n",
       "31150   2017-02-20 05:00:00\n",
       "31151   2017-02-20 06:00:00\n",
       "31152   2017-02-20 07:00:00\n",
       "31153   2017-02-20 08:00:00\n",
       "31154   2017-02-20 09:00:00\n",
       "31155   2017-02-20 10:00:00\n",
       "31156   2017-02-20 11:00:00\n",
       "31157   2017-02-20 12:00:00\n",
       "31158   2017-02-20 13:00:00\n",
       "31159   2017-02-20 14:00:00\n",
       "31160   2017-02-20 15:00:00\n",
       "31161   2017-02-20 16:00:00\n",
       "31162   2017-02-20 17:00:00\n",
       "31163   2017-02-20 18:00:00\n",
       "31164   2017-02-20 19:00:00\n",
       "31165   2017-02-20 20:00:00\n",
       "31166   2017-02-20 21:00:00\n",
       "31167   2017-02-20 22:00:00\n",
       "31168   2017-02-20 23:00:00\n",
       "Name: date_time, Length: 974, dtype: datetime64[ns]"
      ]
     },
     "execution_count": 76,
     "metadata": {},
     "output_type": "execute_result"
    }
   ],
   "source": [
    "df.loc[df.is_holiday==1,'date_time']"
   ]
  },
  {
   "cell_type": "code",
   "execution_count": 40,
   "metadata": {},
   "outputs": [],
   "source": [
    "bins = [-0.1, 60, 120, 180, 240, 300, 360]\n",
    "labels = [0,1,2,3,4,5]\n",
    "df['binned']= pd.cut(rawdata['wind_direction'], bins=bins, labels=labels)"
   ]
  },
  {
   "cell_type": "code",
   "execution_count": 47,
   "metadata": {},
   "outputs": [
    {
     "data": {
      "text/plain": [
       "11898    0.0\n",
       "11899    0.0\n",
       "11900    0.0\n",
       "11901    0.0\n",
       "11946    0.0\n",
       "11947    0.0\n",
       "11948    0.0\n",
       "11949    0.0\n",
       "11950    0.0\n",
       "11951    0.0\n",
       "Name: temperature, dtype: float64"
      ]
     },
     "execution_count": 47,
     "metadata": {},
     "output_type": "execute_result"
    }
   ],
   "source": [
    "rawdata.loc[rawdata.temperature==0,'temperature'] = "
   ]
  },
  {
   "cell_type": "code",
   "execution_count": 77,
   "metadata": {},
   "outputs": [
    {
     "data": {
      "text/plain": [
       "0         9\n",
       "1        10\n",
       "2        11\n",
       "3        12\n",
       "4        13\n",
       "5        14\n",
       "6        15\n",
       "7        16\n",
       "8        17\n",
       "9        18\n",
       "10       19\n",
       "11       20\n",
       "12       21\n",
       "13       22\n",
       "14       23\n",
       "15        0\n",
       "16        1\n",
       "17        2\n",
       "18        3\n",
       "19        4\n",
       "20        5\n",
       "21        6\n",
       "22        8\n",
       "23        9\n",
       "24       12\n",
       "25       13\n",
       "26       14\n",
       "27       15\n",
       "28       16\n",
       "29       18\n",
       "         ..\n",
       "33720    10\n",
       "33721    10\n",
       "33722    11\n",
       "33723    12\n",
       "33724    12\n",
       "33725    13\n",
       "33726    13\n",
       "33727    14\n",
       "33728    15\n",
       "33729    16\n",
       "33730    16\n",
       "33731    17\n",
       "33732    17\n",
       "33733    18\n",
       "33734    18\n",
       "33735    18\n",
       "33736    18\n",
       "33737    19\n",
       "33738    19\n",
       "33739    19\n",
       "33740    20\n",
       "33741    20\n",
       "33742    20\n",
       "33743    21\n",
       "33744    21\n",
       "33745    21\n",
       "33746    22\n",
       "33747    22\n",
       "33748    23\n",
       "33749    23\n",
       "Name: date_time, Length: 33750, dtype: int64"
      ]
     },
     "execution_count": 77,
     "metadata": {},
     "output_type": "execute_result"
    }
   ],
   "source": [
    "\n"
   ]
  },
  {
   "cell_type": "code",
   "execution_count": null,
   "metadata": {
    "collapsed": true
   },
   "outputs": [],
   "source": []
  }
 ],
 "metadata": {
  "kernelspec": {
   "display_name": "tensorflow",
   "language": "python",
   "name": "tensorflow"
  },
  "language_info": {
   "codemirror_mode": {
    "name": "ipython",
    "version": 2
   },
   "file_extension": ".py",
   "mimetype": "text/x-python",
   "name": "python",
   "nbconvert_exporter": "python",
   "pygments_lexer": "ipython2",
   "version": "2.7.13"
  }
 },
 "nbformat": 4,
 "nbformat_minor": 2
}
